{
 "cells": [
  {
   "cell_type": "markdown",
   "metadata": {},
   "source": [
    "This assumes you have cloned the dataset repostory from Hugging Face.\n",
    "\n",
    "You can do that as follows: `git clone https://huggingface.co/datasets/yiye2023/GUIAct`\n",
    "\n",
    "Once you have done so, load the following `json` and `parquet` files:"
   ]
  },
  {
   "cell_type": "code",
   "execution_count": 1,
   "metadata": {},
   "outputs": [],
   "source": [
    "import json \n",
    "\n",
    "with open('GUIAct/smartphone_test_data.json', 'r') as f:\n",
    "    json_data = json.load(f)"
   ]
  },
  {
   "cell_type": "code",
   "execution_count": 2,
   "metadata": {},
   "outputs": [],
   "source": [
    "import pandas as pd \n",
    "\n",
    "df = pd.read_parquet('GUIAct/smartphone_test_images.parquet')\n",
    "df.reset_index(inplace=True)"
   ]
  },
  {
   "cell_type": "markdown",
   "metadata": {},
   "source": [
    "Import helper functions to process the data and create a FiftyOne dataset from the JSON and parquet files.\n",
    "\n",
    "These will processes the test set of the smartphone GUI interaction data by:\n",
    "\n",
    "1. Converting base64-encoded screenshots to JPEG images\n",
    "\n",
    "2. Normalizing UI element coordinates from pixel values to [0,1] range\n",
    "\n",
    "3. Structuring interaction data into episodes and steps\n",
    "\n",
    "4. Converting XML-style point strings (`<point>x,y</point>`) into coordinate pairs\n",
    "\n",
    "5. Creating a FiftyOne dataset where each sample contains:\n",
    "   - Screenshot as image\n",
    "   - UI elements as Detection objects with normalized bounding boxes\n",
    "   - Action history as structured text\n",
    "   - Interaction points as Keypoint objects (single points for taps, dual points for swipes)\n",
    "   - Metadata: episode_id, step number, question text, current action\n",
    "\n",
    "Input format expects JSON with `uid`, `actions_label`, `image_size`, and UI element data with positions (`x`, `y`, `width`, `height`). Outputs a FiftyOne dataset for ML training data visualization and analysis."
   ]
  },
  {
   "cell_type": "code",
   "execution_count": 3,
   "metadata": {},
   "outputs": [],
   "source": [
    "from guiact_smartphone_to_fiftyone import process_json_data, create_dataset"
   ]
  },
  {
   "cell_type": "code",
   "execution_count": 4,
   "metadata": {},
   "outputs": [],
   "source": [
    "processed_json =  process_json_data(json_data)"
   ]
  },
  {
   "cell_type": "code",
   "execution_count": 5,
   "metadata": {},
   "outputs": [
    {
     "data": {
      "text/plain": [
       "{'uid': 'uid_episode_10270193012375700035_step_00',\n",
       " 'image_id': 'uid_episode_10270193012375700035_step_00',\n",
       " 'image_size': {'width': 720, 'height': 1440},\n",
       " 'question': 'What is the capital of Brazil?',\n",
       " 'actions_history': '',\n",
       " 'logs': '',\n",
       " 'thoughts': '',\n",
       " 'actions_label': {'name': 'tap',\n",
       "  'point': {'absolute': '<point>362, 1412</point>',\n",
       "   'related': '<point>0.503, 0.981</point>'}},\n",
       " 'episode_id': 'episode_10270193012375700035',\n",
       " 'step': 0,\n",
       " 'current_action': 'tap: <point>0.503, 0.981</point>',\n",
       " 'structured_history': []}"
      ]
     },
     "execution_count": 5,
     "metadata": {},
     "output_type": "execute_result"
    }
   ],
   "source": [
    "processed_json[0]"
   ]
  },
  {
   "cell_type": "code",
   "execution_count": null,
   "metadata": {},
   "outputs": [
    {
     "name": "stdout",
     "output_type": "stream",
     "text": [
      " 100% |███████████████| 2079/2079 [38.6s elapsed, 0s remaining, 54.0 samples/s]      \n",
      "Computing metadata...\n",
      "  48% |███████|-------| 1000/2079 [17.0s elapsed, 18.3s remaining, 58.9 samples/s]     "
     ]
    }
   ],
   "source": [
    "dataset = create_dataset(df, processed_json)"
   ]
  },
  {
   "cell_type": "code",
   "execution_count": null,
   "metadata": {},
   "outputs": [],
   "source": [
    "dataset"
   ]
  },
  {
   "cell_type": "code",
   "execution_count": null,
   "metadata": {},
   "outputs": [],
   "source": [
    "dataset.skip(40).first()"
   ]
  },
  {
   "cell_type": "code",
   "execution_count": null,
   "metadata": {},
   "outputs": [],
   "source": [
    "import fiftyone as fo\n",
    "\n",
    "fo.launch_app(dataset)"
   ]
  },
  {
   "cell_type": "code",
   "execution_count": null,
   "metadata": {},
   "outputs": [],
   "source": [
    "import fiftyone.utils.huggingface as foh\n",
    "\n",
    "fouh.push_to_hub(\n",
    "    dataset,\n",
    "    \"guiact_smartphone_test\",\n",
    ")"
   ]
  }
 ],
 "metadata": {
  "kernelspec": {
   "display_name": "fiftyone",
   "language": "python",
   "name": "python3"
  },
  "language_info": {
   "codemirror_mode": {
    "name": "ipython",
    "version": 3
   },
   "file_extension": ".py",
   "mimetype": "text/x-python",
   "name": "python",
   "nbconvert_exporter": "python",
   "pygments_lexer": "ipython3",
   "version": "3.11.9"
  }
 },
 "nbformat": 4,
 "nbformat_minor": 2
}
